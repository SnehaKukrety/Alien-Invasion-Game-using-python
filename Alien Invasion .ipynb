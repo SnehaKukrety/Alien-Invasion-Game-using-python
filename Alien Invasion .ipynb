{
 "cells": [
  {
   "cell_type": "markdown",
   "id": "d4dbd846",
   "metadata": {},
   "source": [
    "# We will be creating a game using python "
   ]
  },
  {
   "cell_type": "code",
   "execution_count": 6,
   "id": "dca675eb",
   "metadata": {},
   "outputs": [
    {
     "name": "stdout",
     "output_type": "stream",
     "text": [
      "Requirement already satisfied: pygame in c:\\users\\sneha\\anaconda3\\lib\\site-packages (2.5.2)\n"
     ]
    }
   ],
   "source": [
    "#We will be using pygame for creating this game as it contains functionality needed to make a game\n",
    "\n",
    "!pip install pygame \n"
   ]
  },
  {
   "cell_type": "code",
   "execution_count": 2,
   "id": "e2c33fcf",
   "metadata": {},
   "outputs": [
    {
     "name": "stdout",
     "output_type": "stream",
     "text": [
      "pygame 2.5.2 (SDL 2.28.3, Python 3.9.7)\n",
      "Hello from the pygame community. https://www.pygame.org/contribute.html\n"
     ]
    }
   ],
   "source": [
    "#sys module will used to exit the game when the user quits it\n",
    "\n",
    "import sys\n",
    "import pygame \n",
    "%run settings.ipynb\n",
    "%run ship.ipynb"
   ]
  },
  {
   "cell_type": "code",
   "execution_count": null,
   "id": "377b13f7",
   "metadata": {},
   "outputs": [],
   "source": [
    "def run_game():\n",
    "    #now we will intialize game and create a screen object.\n",
    "    pygame.init()\n",
    "    #the above line initializes background settings that pygame need to work properly.\n",
    "    ai_settings =Settings()\n",
    "    screen=pygame.display.set_mode((ai_settings.screen_width,ai_settings.screen_length))\n",
    "    #creates a display window called screen, on which we will draw all of the game's graphical elements. (1200,800)defines width and height of screen.\n",
    "    #displays entire game window. When we activate game's animation loop, this surface will automatically on every pass through the loop\n",
    "    \n",
    "    pygame.display.set_caption(\"Alien Invasion\")\n",
    "    #screen object in pygame is a surface.A part of screen where you display game elements.\n",
    "    \n",
    "    #making a ship\n",
    "    ship=Ship(screen)\n",
    "    \n",
    "    #Setting background color \n",
    "    bg_color=(230,230,230)\n",
    "    \n",
    "    #Starting the main loop of the game\n",
    "    while True:\n",
    "        \n",
    "        #watch for keyboard and mouse events\n",
    "        for event in pygame.event.get():\n",
    "            '''event is an action the user performs while playing the game element, such as pressing key and moving mouse.To respond to events we will write\n",
    "            an event loop(above written for loop) to listen for an event to perform an appropriate task depending on the kind of event occured. \n",
    "            To access the event detected by pygame we will use pygame.event.get function.\n",
    "            '''\n",
    "            \n",
    "            if event.type==pygame.QUIT:\n",
    "                sys.exit()\n",
    "                #action should be taken when event is detected here if user want to quit(pygame.QUIT) is detected then we call sys.exit to exit the game\n",
    "        \n",
    "        #we will fill or redraw the screen during each pass in loop by filling bg color using screen.fill method which takes only 1 arg, a color \n",
    "        screen.fill(ai_settings.bg_color)\n",
    "        ship.blitme()\n",
    "         #making the most recently drawn screen visible\n",
    "        pygame.display.flip()\n",
    "        #continuously update and display to show new positions of elements and hide the old ones, hence creating illusion of smooth movement.\n",
    " \n",
    "run_game()    \n"
   ]
  },
  {
   "cell_type": "code",
   "execution_count": null,
   "id": "fe5a7155",
   "metadata": {},
   "outputs": [],
   "source": [
    "\n",
    "        \n",
    "        \n",
    "        "
   ]
  }
 ],
 "metadata": {
  "kernelspec": {
   "display_name": "Python 3 (ipykernel)",
   "language": "python",
   "name": "python3"
  },
  "language_info": {
   "codemirror_mode": {
    "name": "ipython",
    "version": 3
   },
   "file_extension": ".py",
   "mimetype": "text/x-python",
   "name": "python",
   "nbconvert_exporter": "python",
   "pygments_lexer": "ipython3",
   "version": "3.9.7"
  }
 },
 "nbformat": 4,
 "nbformat_minor": 5
}
