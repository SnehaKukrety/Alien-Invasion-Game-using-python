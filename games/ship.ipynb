{
 "cells": [
  {
   "cell_type": "code",
   "execution_count": 2,
   "id": "f63a9355",
   "metadata": {},
   "outputs": [
    {
     "name": "stdout",
     "output_type": "stream",
     "text": [
      "pygame 2.5.2 (SDL 2.28.3, Python 3.9.7)\n",
      "Hello from the pygame community. https://www.pygame.org/contribute.html\n"
     ]
    }
   ],
   "source": [
    "import pygame\n",
    "\n",
    "    "
   ]
  },
  {
   "cell_type": "code",
   "execution_count": 6,
   "id": "f574b49e",
   "metadata": {},
   "outputs": [],
   "source": [
    "class Ship():\n",
    "    def __init__(self,screen):#screen where we will draw the ship\n",
    "        #initializing the ship and its starting position\n",
    "        self.screen=screen\n",
    "        \n",
    "        #loading the ship image\n",
    "        self.image=pygame.image.load('images/ship.bmp')\n",
    "        self.rect=self.image.get_rect() #it treats elements like rectangle\n",
    "        self.screen_rect=screen.get_rect()\n",
    "        \n",
    "        #start each new ship at the bottom center of the screen\n",
    "        self.rect.centerx=self.screen_rect.centerx\n",
    "        self.rect.bottom-self.screen_rect.bottom\n",
    "        \n",
    "    def blitme(self): #draw the image to the screen position set by self.rect   \n",
    "        self.screen.blit(self.image, self.rect)"
   ]
  },
  {
   "cell_type": "code",
   "execution_count": null,
   "id": "dca5d91d",
   "metadata": {},
   "outputs": [],
   "source": []
  }
 ],
 "metadata": {
  "kernelspec": {
   "display_name": "Python 3 (ipykernel)",
   "language": "python",
   "name": "python3"
  },
  "language_info": {
   "codemirror_mode": {
    "name": "ipython",
    "version": 3
   },
   "file_extension": ".py",
   "mimetype": "text/x-python",
   "name": "python",
   "nbconvert_exporter": "python",
   "pygments_lexer": "ipython3",
   "version": "3.9.7"
  }
 },
 "nbformat": 4,
 "nbformat_minor": 5
}
