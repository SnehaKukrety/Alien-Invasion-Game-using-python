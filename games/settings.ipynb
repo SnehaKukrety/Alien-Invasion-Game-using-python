{
 "cells": [
  {
   "cell_type": "code",
   "execution_count": 6,
   "id": "76626b42",
   "metadata": {},
   "outputs": [],
   "source": [
    "class Settings():\n",
    "    '''Creating a settings class to store all the settings for Alien Invasion.'''\n",
    "    \n",
    "    def __init__(self):#constructor: initializing game's screen settings\n",
    "        self.screen_width=1400\n",
    "        self.screen_length=800\n",
    "        self.bg_color=(128,128,128)"
   ]
  },
  {
   "cell_type": "code",
   "execution_count": null,
   "id": "7fd46af9",
   "metadata": {},
   "outputs": [],
   "source": []
  }
 ],
 "metadata": {
  "kernelspec": {
   "display_name": "Python 3 (ipykernel)",
   "language": "python",
   "name": "python3"
  },
  "language_info": {
   "codemirror_mode": {
    "name": "ipython",
    "version": 3
   },
   "file_extension": ".py",
   "mimetype": "text/x-python",
   "name": "python",
   "nbconvert_exporter": "python",
   "pygments_lexer": "ipython3",
   "version": "3.9.7"
  }
 },
 "nbformat": 4,
 "nbformat_minor": 5
}
